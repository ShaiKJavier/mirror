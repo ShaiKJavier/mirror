{
 "cells": [
  {
   "cell_type": "code",
   "execution_count": 1,
   "id": "b909dbfa",
   "metadata": {},
   "outputs": [
    {
     "name": "stdout",
     "output_type": "stream",
     "text": [
      "enter a string:edyoda\n",
      "the given string = edyoda \n",
      " mirror string = a\n",
      "the given string = edyoda \n",
      " mirror string = ad\n",
      "the given string = edyoda \n",
      " mirror string = ado\n",
      "the given string = edyoda \n",
      " mirror string = adoy\n",
      "the given string = edyoda \n",
      " mirror string = adoyd\n",
      "the given string = edyoda \n",
      " mirror string = adoyde\n"
     ]
    }
   ],
   "source": [
    "str1 = input(\"enter a string:\")\n",
    "str2 = ''\n",
    "index = -1\n",
    "for i in str1:\n",
    "    str2+=str1[index]\n",
    "    index -=1\n",
    "    print(\"the given string = {} \\n mirror string = {}\".format(str1,str2))"
   ]
  },
  {
   "cell_type": "code",
   "execution_count": null,
   "id": "0cdd11d1",
   "metadata": {},
   "outputs": [],
   "source": []
  }
 ],
 "metadata": {
  "kernelspec": {
   "display_name": "Python 3",
   "language": "python",
   "name": "python3"
  },
  "language_info": {
   "codemirror_mode": {
    "name": "ipython",
    "version": 3
   },
   "file_extension": ".py",
   "mimetype": "text/x-python",
   "name": "python",
   "nbconvert_exporter": "python",
   "pygments_lexer": "ipython3",
   "version": "3.8.8"
  }
 },
 "nbformat": 4,
 "nbformat_minor": 5
}
